{
  "nbformat": 4,
  "nbformat_minor": 0,
  "metadata": {
    "colab": {
      "provenance": []
    },
    "kernelspec": {
      "name": "python3",
      "display_name": "Python 3"
    },
    "language_info": {
      "name": "python"
    }
  },
  "cells": [
    {
      "cell_type": "markdown",
      "source": [
        "# Assignment – RESTful API & Flask\n",
        "\n",
        "### 1. What is a RESTful API?\n",
        "A RESTful API is a way for two computer programs to talk to each other using the internet.  \n",
        "It follows some simple rules called REST (Representational State Transfer).  \n",
        "It uses HTTP methods like GET, POST, PUT, and DELETE to share or change data.\n",
        "\n",
        "### 2. Explain the concept of API specification.\n",
        "An API specification is like a rule book that explains how to use an API.  \n",
        "It tells what requests we can send, what data is needed, and what type of response we will get back.\n",
        "\n",
        "### 3. What is Flask, and why is it popular for building APIs?\n",
        "Flask is a lightweight Python framework used for making web apps and APIs.  \n",
        "It is popular because it is simple, flexible, and easy for beginners to understand.  \n",
        "It does not force strict rules and lets developers build apps in their own way.\n",
        "\n",
        "### 4. What is routing in Flask?\n",
        "Routing in Flask means deciding which function should run when a user visits a certain URL.  \n",
        "For example, if a user goes to `/home`, Flask decides which code to execute for that page.\n",
        "\n",
        "### 5. How do you create a simple Flask application?\n",
        "To make a simple Flask app:  \n",
        "Install Flask and write Python code like this:\n",
        "from flask import Flask\n",
        "app = Flask(__name__)\n",
        "\n",
        "@app.route(\"/\")\n",
        "def home():\n",
        "    return \"Hello, Flask!\"\n",
        "\n",
        "if __name__ == \"__main__\":\n",
        "    app.run()\n",
        "### 6. What are HTTP methods used in RESTful APIs?\n",
        "The main HTTP methods are:  \n",
        "- **GET** → Fetch data  \n",
        "- **POST** → Add new data  \n",
        "- **PUT** → Update data  \n",
        "- **DELETE** → Remove data  \n",
        "\n",
        "### 7. What is the purpose of the @app.route() decorator in Flask?\n",
        "`@app.route()` is used to connect a URL path with a function.  \n",
        "It tells Flask: “When someone visits this URL, run this function.”\n",
        "\n",
        "### 8. What is the difference between GET and POST HTTP methods?\n",
        "- **GET** → Used to request and read data. (Example: search something on Google.)  \n",
        "- **POST** → Used to send new data to the server. (Example: submitting a signup form.)  \n",
        "\n",
        "### 9. How do you handle errors in Flask APIs?\n",
        "We handle errors by using error handlers.  \n",
        "For example, if a page is not found, we can return a custom message instead of the default error.\n",
        "@app.errorhandler(404)\n",
        "def not_found(e):\n",
        "    return \"Page not found\", 404\n",
        "### 10. How do you connect Flask to a SQL database?\n",
        "We connect Flask to a SQL database using libraries like Flask-SQLAlchemy.  \n",
        "This makes it easy to create tables and run queries directly in Python.\n",
        "\n",
        "### 11. What is the role of Flask-SQLAlchemy?\n",
        "Flask-SQLAlchemy is a tool that helps connect Flask apps with databases.  \n",
        "It allows us to use Python code instead of writing long SQL queries.\n",
        "\n",
        "### 12. What are Flask blueprints, and how are they useful?\n",
        "Blueprints are a way to organize a big Flask app into smaller parts.  \n",
        "They help keep code neat and make it easy to work on large projects.\n",
        "\n",
        "### 13. What is the purpose of Flask's request object?\n",
        "The `request` object helps us get data that users send to our app.  \n",
        "For example, data from forms, query parameters, or JSON.\n",
        "\n",
        "### 14. How do you create a RESTful API endpoint using Flask?\n",
        "We create an endpoint by defining a route with `@app.route()` and writing a function that returns data (often in JSON).\n",
        "@app.route(\"/api/data\", methods=[\"GET\"])\n",
        "def get_data():\n",
        "    return {\"message\": \"This is an API response\"}\n",
        "### 15. What is the purpose of Flask's jsonify() function?\n",
        "`jsonify()` converts Python data (like lists or dictionaries) into JSON format  \n",
        "so it can be sent easily as an API response.\n",
        "\n",
        "### 16. Explain Flask’s url_for() function.\n",
        "`url_for()` is used to build URLs for routes automatically.  \n",
        "It saves time because we don’t have to hard-code URLs.\n",
        "\n",
        "### 17. How does Flask handle static files (CSS, JavaScript, etc.)?\n",
        "Flask stores static files in a folder called `static/`.  \n",
        "We can use these files (like CSS, JS, images) in our web pages.\n",
        "\n",
        "### 18. What is an API specification, and how does it help in building a Flask API?\n",
        "An API specification is a guide that explains how the API works.  \n",
        "It helps developers understand what requests they can make and what responses to expect.  \n",
        "This makes teamwork easier.\n",
        "\n",
        "### 19. What are HTTP status codes, and why are they important in a Flask API?\n",
        "HTTP status codes are numbers that show the result of a request:  \n",
        "- **200** → Success  \n",
        "- **404** → Not Found  \n",
        "- **500** → Server Error  \n",
        "\n",
        "They help users and developers know what went right or wrong.\n",
        "\n",
        "### 20. How do you handle POST requests in Flask?\n",
        "We use the `POST` method in routes and read the data from the `request` object.\n",
        "from flask import request\n",
        "\n",
        "@app.route(\"/submit\", methods=[\"POST\"])\n",
        "def submit():\n",
        "    data = request.form[\"name\"]\n",
        "    return f\"Hello {data}\"\n",
        "### 21. How would you secure a Flask API?\n",
        "We can secure APIs by:  \n",
        "- Using authentication (like tokens)  \n",
        "- Using HTTPS instead of HTTP  \n",
        "- Validating and sanitizing user inputs  \n",
        "\n",
        "### 22. What is the significance of the Flask-RESTful extension?\n",
        "Flask-RESTful is an extension that makes building APIs easier.  \n",
        "It provides tools for handling requests, responses, and routing in a clean way.\n",
        "\n",
        "### 23. What is the role of Flask’s session object?\n",
        "The session object is used to store information about a user across different pages (like login info).  \n",
        "It uses cookies to keep track.\n",
        "\n",
        "\n",
        "\n",
        "\n",
        "\n",
        "\n",
        "\n",
        "\n",
        "\n",
        "\n",
        "\n",
        "\n",
        "\n",
        "\n",
        "\n",
        "\n"
      ],
      "metadata": {
        "id": "W12rqHgYUlQY"
      }
    },
    {
      "cell_type": "markdown",
      "source": [
        "##### **Practical Answers**"
      ],
      "metadata": {
        "id": "MTZoURdDm15w"
      }
    },
    {
      "cell_type": "markdown",
      "source": [
        "### 24. How do you create a basic Flask application?"
      ],
      "metadata": {
        "id": "j2ITvgrmm6Hk"
      }
    },
    {
      "cell_type": "code",
      "source": [
        "# Step 1: Import Flask\n",
        "from flask import Flask\n",
        "\n",
        "# Step 2: Create a Flask app instance\n",
        "app = Flask(__name__)\n",
        "\n",
        "# Step 3: Define a route\n",
        "@app.route('/')\n",
        "def home():\n",
        "    return \"Hello, Flask! This is your first web app.\"\n",
        "\n",
        "# Step 4: Run the app\n",
        "if __name__ == '__main__':\n",
        "    app.run(debug=True)\n",
        ""
      ],
      "metadata": {
        "id": "0C6MajrmnAIp"
      },
      "execution_count": 34,
      "outputs": []
    },
    {
      "cell_type": "markdown",
      "source": [
        "### 25. How do you serve static files like images or CSS in Flask?\n"
      ],
      "metadata": {
        "id": "Yu8NgQiwpODx"
      }
    },
    {
      "cell_type": "code",
      "source": [
        "### app.py code\n",
        "\n",
        "from flask import Flask, render_template\n",
        "\n",
        "app = Flask(__name__)\n",
        "\n",
        "@app.route('/')\n",
        "def home():\n",
        "    return render_template('index.html')\n",
        "\n",
        "if __name__ == '__main__':\n",
        "    app.run(debug=True)"
      ],
      "metadata": {
        "id": "NtXf7Wv2pQk8"
      },
      "execution_count": null,
      "outputs": []
    },
    {
      "cell_type": "markdown",
      "source": [
        "### 26. How do you define different routes with different HTTP methods in Flask?\n",
        "In Flask, different routes can be defined using the @app.route() decorator.\n"
      ],
      "metadata": {
        "id": "PhQYmu2RWm71"
      }
    },
    {
      "cell_type": "code",
      "source": [
        "from flask import Flask, request\n",
        "\n",
        "app = Flask(__name__)\n",
        "\n",
        "@app.route('/submit', methods=['GET', 'POST'])\n",
        "def submit():\n",
        "    if request.method == 'POST':\n",
        "        return \"Form submitted!\"\n",
        "    else:\n",
        "        return \"Display form\""
      ],
      "metadata": {
        "id": "JyV1AazWWorE"
      },
      "execution_count": 7,
      "outputs": []
    },
    {
      "cell_type": "markdown",
      "source": [
        "### 27. How do you render HTML templates in Flask?\n",
        "In Flask, HTML templates are rendered using the render_template() function from the flask module.\n",
        "\n"
      ],
      "metadata": {
        "id": "UwNI7lwJXM4P"
      }
    },
    {
      "cell_type": "code",
      "source": [
        "from flask import Flask, render_template\n",
        "\n",
        "app = Flask(__name__)\n",
        "\n",
        "@app.route('/')\n",
        "def home():\n",
        "    return render_template('home.html', name='Digital')\n"
      ],
      "metadata": {
        "id": "HmKQbmvQXRIk"
      },
      "execution_count": 5,
      "outputs": []
    },
    {
      "cell_type": "markdown",
      "source": [
        "### 28. How can you generate URLs for routes in Flask using url_for?\n",
        "In Flask, the url_for() function is a super handy way to dynamically generate URLs for routes. Instead of hardcoding paths like \"/submit\" or \"/dashboard\", we use url_for() to reference the function name of the route. This makes our code cleaner, more maintainable, and less error-prone—especially when we change route paths later.\n"
      ],
      "metadata": {
        "id": "hq8aQ6KuXxQd"
      }
    },
    {
      "cell_type": "code",
      "source": [
        "### Defrine a route\n",
        "@app.route('/hello')\n",
        "def greet():\n",
        "    return \"Hello, world!\"\n",
        "\n",
        "    ### Generate URL\n",
        "\n",
        "    url_for('greet')  # Returns '/hello'\n",
        "\n"
      ],
      "metadata": {
        "id": "jZQp_HrUX2te"
      },
      "execution_count": 3,
      "outputs": []
    },
    {
      "cell_type": "markdown",
      "source": [
        "### 29. How do you handle forms in Flask?\n",
        "Handling forms in Flask is a core part of building interactive web applications.\n",
        "\n",
        "Handle Form Data in Flask\n"
      ],
      "metadata": {
        "id": "8mcJ7J-YcKMJ"
      }
    },
    {
      "cell_type": "code",
      "source": [
        "from flask import Flask, request, render_template\n",
        "\n",
        "app = Flask(__name__)\n",
        "\n",
        "@app.route('/submit', methods=['GET', 'POST'])\n",
        "def submit():\n",
        "    if request.method == 'POST':\n",
        "        username = request.form['username']\n",
        "        return f\"Hello, {username}!\"\n",
        "    return render_template('form.html')\n",
        ""
      ],
      "metadata": {
        "id": "qH0cKESScPGb"
      },
      "execution_count": 1,
      "outputs": []
    },
    {
      "cell_type": "markdown",
      "source": [
        "### 30. How can you validate form data in Flask?\n",
        "In Flask, form data can be validated manually using the request object\n",
        "or automatically using Flask-WTF and WTForms. The second method is preferred for cleaner code and built-in validation features.\n"
      ],
      "metadata": {
        "id": "GlSY2yg2dAN3"
      }
    },
    {
      "cell_type": "code",
      "source": [
        "### Manual Validation Using request.form\n",
        "from flask import Flask, request\n",
        "\n",
        "app = Flask(__name__)\n",
        "\n",
        "@app.route('/submit', methods=['POST'])\n",
        "def submit():\n",
        "    username = request.form.get('username')\n",
        "    if not username:\n",
        "        return \"Username is required\"\n",
        "    return f\"Welcome, {username}!\""
      ],
      "metadata": {
        "id": "p22p3vjLf53J"
      },
      "execution_count": 9,
      "outputs": []
    },
    {
      "cell_type": "markdown",
      "source": [
        "### 31. How do you manage sessions in Flask?\n",
        "We use the `session` object to store small pieces of data, like a user’s login state, across requests.\n"
      ],
      "metadata": {
        "id": "PJhPiLbvgsTb"
      }
    },
    {
      "cell_type": "code",
      "source": [
        "from flask import session\n",
        "\n",
        "@app.route(\"/set_session\")\n",
        "def set_session():\n",
        "    session[\"user\"] = \"Alice\"\n",
        "    return \"Session data saved\"\n"
      ],
      "metadata": {
        "id": "xrhBuk0SgyHR"
      },
      "execution_count": 10,
      "outputs": []
    },
    {
      "cell_type": "markdown",
      "source": [
        "### 32. How do you redirect to a different route in Flask?\n",
        "We use the `redirect()` function with `url_for()`.\n"
      ],
      "metadata": {
        "id": "hFbuRL29g0ud"
      }
    },
    {
      "cell_type": "code",
      "source": [
        "from flask import redirect, url_for\n",
        "\n",
        "@app.route(\"/go\")\n",
        "def go():\n",
        "    return redirect(url_for(\"home\"))\n"
      ],
      "metadata": {
        "id": "sb7jaMgyg4DS"
      },
      "execution_count": 11,
      "outputs": []
    },
    {
      "cell_type": "markdown",
      "source": [
        "### 33. How do you handle errors in Flask (e.g., 404)?\n",
        "We define error handlers using `@app.errorhandler()`.\n"
      ],
      "metadata": {
        "id": "mGE3-apig7Bg"
      }
    },
    {
      "cell_type": "code",
      "source": [
        "@app.errorhandler(404)\n",
        "def not_found(e):\n",
        "    return \"Page not found\", 404\n"
      ],
      "metadata": {
        "id": "ADqG_09ng9wi"
      },
      "execution_count": 12,
      "outputs": []
    },
    {
      "cell_type": "markdown",
      "source": [
        "### 34. How do you structure a Flask app using Blueprints?\n",
        "# Step 1: Install Flask (if not already installed)\n",
        "!pip install flask\n"
      ],
      "metadata": {
        "id": "1kJDeWl2hBz0"
      }
    },
    {
      "cell_type": "code",
      "source": [
        "# Step 2: Create Blueprint in a separate file (simulated here using Python's types.ModuleType)\n",
        "import types\n",
        "from flask import Flask, Blueprint, render_template_string\n",
        "\n",
        "# Simulate main/routes.py\n",
        "main = Blueprint('main', __name__)\n",
        "\n",
        "@main.route('/')\n",
        "def home():\n",
        "    return render_template_string(\"\"\"\n",
        "    <!DOCTYPE html>\n",
        "    <html>\n",
        "    <head><title>Blueprint Example</title></head>\n",
        "    <body>\n",
        "        <h1>Welcome to Flask with Blueprints!</h1>\n",
        "    </body>\n",
        "    </html>\n",
        "    \"\"\")\n",
        "\n",
        "# Step 3: Create and run the Flask app\n",
        "app = Flask(__name__)\n",
        "app.register_blueprint(main)\n",
        "\n",
        "# Run the app (only works locally, not in Colab)\n",
        "# app.run(debug=True)"
      ],
      "metadata": {
        "id": "sCAoAUcFrw_X"
      },
      "execution_count": null,
      "outputs": []
    },
    {
      "cell_type": "markdown",
      "source": [
        "### 35. How do you define a custom Jinja filter in Flask?\n",
        "We can create a new filter like this:\n"
      ],
      "metadata": {
        "id": "AXHqEd8shtLh"
      }
    },
    {
      "cell_type": "code",
      "source": [
        "@app.template_filter(\"reverse\")\n",
        "def reverse_filter(s):\n",
        "    return s[::-1]\n"
      ],
      "metadata": {
        "id": "MzGZVvnWhurg"
      },
      "execution_count": 13,
      "outputs": []
    },
    {
      "cell_type": "markdown",
      "source": [
        "### 36. How can you redirect with query parameters in Flask?\n",
        "In Flask, we can redirect to another route using the redirect() function along with url_for(). To include query parameters, we pass them as keyword arguments to url_for().\n",
        "\n",
        "\n",
        "\n"
      ],
      "metadata": {
        "id": "nDWF_XDJhxVU"
      }
    },
    {
      "cell_type": "code",
      "source": [
        "from flask import Flask, redirect, url_for, request\n",
        "\n",
        "app = Flask(__name__)\n",
        "\n",
        "@app.route('/')\n",
        "def index():\n",
        "    # Redirect to /welcome with query parameters\n",
        "    return redirect(url_for('welcome', name='Digital', age=25))\n",
        "\n",
        "@app.route('/welcome')\n",
        "def welcome():\n",
        "    name = request.args.get('name')\n",
        "    age = request.args.get('age')\n",
        "    return f\"Welcome {name}! You are {age} years old.\"\n",
        "\n",
        "if __name__ == '__main__':\n",
        "    app.run(debug=True)"
      ],
      "metadata": {
        "id": "zmNpR3-diKtY"
      },
      "execution_count": 28,
      "outputs": []
    },
    {
      "cell_type": "markdown",
      "source": [
        "### 37. How do you return JSON responses in Flask?\n",
        "We use `jsonify()` to send JSON responses.\n"
      ],
      "metadata": {
        "id": "uynHrKEklYUJ"
      }
    },
    {
      "cell_type": "code",
      "source": [
        "from flask import jsonify\n",
        "\n",
        "@app.route(\"/json\")\n",
        "def json_example():\n",
        "    return jsonify(name=\"Flask\", type=\"API\")\n"
      ],
      "metadata": {
        "id": "HweavtmblZ9F"
      },
      "execution_count": 29,
      "outputs": []
    },
    {
      "cell_type": "markdown",
      "source": [
        "### 38. How do you capture URL parameters in Flask?\n",
        "We define parameters in the route using `< >`.\n"
      ],
      "metadata": {
        "id": "u9Sa8LN_lc0b"
      }
    },
    {
      "cell_type": "code",
      "source": [
        "@app.route(\"/user/<name>\")\n",
        "def user(name):\n",
        "    return f\"Hello {name}\"\n"
      ],
      "metadata": {
        "id": "rjbOr7V-le0p"
      },
      "execution_count": 30,
      "outputs": []
    },
    {
      "cell_type": "code",
      "source": [],
      "metadata": {
        "id": "nVk9SDUFjKR_"
      },
      "execution_count": null,
      "outputs": []
    },
    {
      "cell_type": "code",
      "source": [],
      "metadata": {
        "id": "o0TZzFSCix_e"
      },
      "execution_count": null,
      "outputs": []
    },
    {
      "cell_type": "code",
      "source": [],
      "metadata": {
        "id": "mNXEypChinKG"
      },
      "execution_count": null,
      "outputs": []
    },
    {
      "cell_type": "code",
      "source": [],
      "metadata": {
        "id": "LLf-N4jZifxP"
      },
      "execution_count": null,
      "outputs": []
    },
    {
      "cell_type": "code",
      "source": [],
      "metadata": {
        "id": "KR9dYRf4iSbY"
      },
      "execution_count": null,
      "outputs": []
    },
    {
      "cell_type": "code",
      "metadata": {
        "id": "9e645b6d"
      },
      "source": [],
      "execution_count": 36,
      "outputs": []
    },
    {
      "cell_type": "code",
      "metadata": {
        "id": "c04c02e3"
      },
      "source": [],
      "execution_count": 36,
      "outputs": []
    }
  ]
}